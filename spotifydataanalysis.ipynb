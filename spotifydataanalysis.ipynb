{
  "nbformat": 4,
  "nbformat_minor": 0,
  "metadata": {
    "colab": {
      "provenance": [],
      "authorship_tag": "ABX9TyOjapUkB6wXzLvYw3JvsNXL",
      "include_colab_link": true
    },
    "kernelspec": {
      "name": "python3",
      "display_name": "Python 3"
    },
    "language_info": {
      "name": "python"
    }
  },
  "cells": [
    {
      "cell_type": "markdown",
      "metadata": {
        "id": "view-in-github",
        "colab_type": "text"
      },
      "source": [
        "<a href=\"https://colab.research.google.com/github/Tekri96/spotify_etl_pipeline_aws/blob/main/spotifydataanalysis.ipynb\" target=\"_parent\"><img src=\"https://colab.research.google.com/assets/colab-badge.svg\" alt=\"Open In Colab\"/></a>"
      ]
    },
    {
      "cell_type": "code",
      "execution_count": null,
      "metadata": {
        "colab": {
          "base_uri": "https://localhost:8080/"
        },
        "id": "thxfvgEh7YAy",
        "outputId": "7bdf9432-4590-4933-a177-16e242fdb71f"
      },
      "outputs": [
        {
          "output_type": "stream",
          "name": "stdout",
          "text": [
            "Requirement already satisfied: spotipy in /usr/local/lib/python3.10/dist-packages (2.23.0)\n",
            "Requirement already satisfied: redis>=3.5.3 in /usr/local/lib/python3.10/dist-packages (from spotipy) (5.0.0)\n",
            "Requirement already satisfied: requests>=2.25.0 in /usr/local/lib/python3.10/dist-packages (from spotipy) (2.31.0)\n",
            "Requirement already satisfied: six>=1.15.0 in /usr/local/lib/python3.10/dist-packages (from spotipy) (1.16.0)\n",
            "Requirement already satisfied: urllib3>=1.26.0 in /usr/local/lib/python3.10/dist-packages (from spotipy) (2.0.4)\n",
            "Requirement already satisfied: async-timeout>=4.0.2 in /usr/local/lib/python3.10/dist-packages (from redis>=3.5.3->spotipy) (4.0.3)\n",
            "Requirement already satisfied: charset-normalizer<4,>=2 in /usr/local/lib/python3.10/dist-packages (from requests>=2.25.0->spotipy) (3.2.0)\n",
            "Requirement already satisfied: idna<4,>=2.5 in /usr/local/lib/python3.10/dist-packages (from requests>=2.25.0->spotipy) (3.4)\n",
            "Requirement already satisfied: certifi>=2017.4.17 in /usr/local/lib/python3.10/dist-packages (from requests>=2.25.0->spotipy) (2023.7.22)\n",
            "Requirement already satisfied: pandas in /usr/local/lib/python3.10/dist-packages (1.5.3)\n",
            "Requirement already satisfied: python-dateutil>=2.8.1 in /usr/local/lib/python3.10/dist-packages (from pandas) (2.8.2)\n",
            "Requirement already satisfied: pytz>=2020.1 in /usr/local/lib/python3.10/dist-packages (from pandas) (2023.3)\n",
            "Requirement already satisfied: numpy>=1.21.0 in /usr/local/lib/python3.10/dist-packages (from pandas) (1.23.5)\n",
            "Requirement already satisfied: six>=1.5 in /usr/local/lib/python3.10/dist-packages (from python-dateutil>=2.8.1->pandas) (1.16.0)\n"
          ]
        }
      ],
      "source": [
        "!pip install spotipy\n",
        "!pip install pandas"
      ]
    },
    {
      "cell_type": "code",
      "source": [
        "import spotipy\n",
        "from spotipy.oauth2 import SpotifyClientCredentials"
      ],
      "metadata": {
        "id": "ThPMczAN8rc0"
      },
      "execution_count": null,
      "outputs": []
    },
    {
      "cell_type": "code",
      "source": [
        "#authentication\n",
        "client_credentials_manager = SpotifyClientCredentials(client_id=\"Enter your clientid\", client_secret=\"Enter your client secret\")"
      ],
      "metadata": {
        "id": "GMWBX8v18yOQ"
      },
      "execution_count": null,
      "outputs": []
    },
    {
      "cell_type": "code",
      "source": [
        "sp = spotipy.Spotify(client_credentials_manager = client_credentials_manager)"
      ],
      "metadata": {
        "id": "BMTTyJL69NDs"
      },
      "execution_count": null,
      "outputs": []
    },
    {
      "cell_type": "code",
      "source": [
        "#top songs Canada weekly\n",
        "playlist_link = \"https://open.spotify.com/playlist/37i9dQZEVXbMda2apknTqH\""
      ],
      "metadata": {
        "id": "thNJmrTr9Nto"
      },
      "execution_count": null,
      "outputs": []
    },
    {
      "cell_type": "code",
      "source": [
        "playlist_URI = playlist_link.split(\"/\")[-1]\n",
        "playlist_URI"
      ],
      "metadata": {
        "colab": {
          "base_uri": "https://localhost:8080/",
          "height": 35
        },
        "id": "4TsbDLXk9XwE",
        "outputId": "dc99a3c0-4fe3-4fd3-fc49-a651e4918c00"
      },
      "execution_count": null,
      "outputs": [
        {
          "output_type": "execute_result",
          "data": {
            "text/plain": [
              "'37i9dQZEVXbMda2apknTqH'"
            ],
            "application/vnd.google.colaboratory.intrinsic+json": {
              "type": "string"
            }
          },
          "metadata": {},
          "execution_count": 12
        }
      ]
    },
    {
      "cell_type": "code",
      "source": [
        "data = sp.playlist_tracks(playlist_URI)\n",
        "#data\n"
      ],
      "metadata": {
        "id": "8VmOPk78_hGo"
      },
      "execution_count": null,
      "outputs": []
    },
    {
      "cell_type": "code",
      "source": [
        "data['items'][0]['track']['album']['name']"
      ],
      "metadata": {
        "colab": {
          "base_uri": "https://localhost:8080/",
          "height": 35
        },
        "id": "3SrE_9oA_7QD",
        "outputId": "ff064a5a-9afe-43e9-9040-dbc69d5deb7b"
      },
      "execution_count": null,
      "outputs": [
        {
          "output_type": "execute_result",
          "data": {
            "text/plain": [
              "'One Thing At A Time'"
            ],
            "application/vnd.google.colaboratory.intrinsic+json": {
              "type": "string"
            }
          },
          "metadata": {},
          "execution_count": 24
        }
      ]
    },
    {
      "cell_type": "code",
      "source": [
        "album_list = []\n",
        "for row in data['items']:\n",
        "    album_id = row['track']['album']['id']\n",
        "    album_name = row['track']['album']['name']\n",
        "    album_release_date = row['track']['album']['release_date']\n",
        "    album_total_tracks = row['track']['album']['total_tracks']\n",
        "    album_url = row['track']['album']['external_urls']['spotify']\n",
        "    album_element = {'album_id':album_id,'name':album_name,'release_date':album_release_date,\n",
        "                        'total_tracks':album_total_tracks,'url':album_url}\n",
        "    album_list.append(album_element)"
      ],
      "metadata": {
        "id": "eLwfqpQEGeLv"
      },
      "execution_count": null,
      "outputs": []
    },
    {
      "cell_type": "code",
      "source": [
        "#album_list"
      ],
      "metadata": {
        "id": "VOflxAJCHAcw"
      },
      "execution_count": null,
      "outputs": []
    },
    {
      "cell_type": "code",
      "source": [
        "data['items'][0]['track']['artists']\n"
      ],
      "metadata": {
        "colab": {
          "base_uri": "https://localhost:8080/"
        },
        "id": "tAsHTMsmHpOm",
        "outputId": "11528b63-8190-4e80-96ed-81bbfffcd27f"
      },
      "execution_count": null,
      "outputs": [
        {
          "output_type": "execute_result",
          "data": {
            "text/plain": [
              "[{'external_urls': {'spotify': 'https://open.spotify.com/artist/4oUHIQIBe0LHzYfvXNW4QM'},\n",
              "  'href': 'https://api.spotify.com/v1/artists/4oUHIQIBe0LHzYfvXNW4QM',\n",
              "  'id': '4oUHIQIBe0LHzYfvXNW4QM',\n",
              "  'name': 'Morgan Wallen',\n",
              "  'type': 'artist',\n",
              "  'uri': 'spotify:artist:4oUHIQIBe0LHzYfvXNW4QM'}]"
            ]
          },
          "metadata": {},
          "execution_count": 30
        }
      ]
    },
    {
      "cell_type": "code",
      "source": [
        "data['items'][5]['track']['artists']"
      ],
      "metadata": {
        "colab": {
          "base_uri": "https://localhost:8080/"
        },
        "id": "qC2ruPWVIcZn",
        "outputId": "f72e3b94-7c62-4ae2-8342-6ec53827fdb1"
      },
      "execution_count": null,
      "outputs": [
        {
          "output_type": "execute_result",
          "data": {
            "text/plain": [
              "[{'external_urls': {'spotify': 'https://open.spotify.com/artist/6qqNVTkY8uBg9cP3Jd7DAH'},\n",
              "  'href': 'https://api.spotify.com/v1/artists/6qqNVTkY8uBg9cP3Jd7DAH',\n",
              "  'id': '6qqNVTkY8uBg9cP3Jd7DAH',\n",
              "  'name': 'Billie Eilish',\n",
              "  'type': 'artist',\n",
              "  'uri': 'spotify:artist:6qqNVTkY8uBg9cP3Jd7DAH'}]"
            ]
          },
          "metadata": {},
          "execution_count": 32
        }
      ]
    },
    {
      "cell_type": "code",
      "source": [
        "artist_list = []\n",
        "for row in data['items']:\n",
        "    for key, value in row.items():\n",
        "        if key == \"track\":\n",
        "            for artist in value['artists']:\n",
        "                artist_dict = {'artist_id':artist['id'], 'artist_name':artist['name'], 'external_url': artist['href']}\n",
        "                artist_list.append(artist_dict)"
      ],
      "metadata": {
        "id": "xsU5enhEI7_4"
      },
      "execution_count": null,
      "outputs": []
    },
    {
      "cell_type": "code",
      "source": [
        "song_list = []\n",
        "for row in data['items']:\n",
        "    song_id = row['track']['id']\n",
        "    song_name = row['track']['name']\n",
        "    song_duration = row['track']['duration_ms']\n",
        "    song_url = row['track']['external_urls']['spotify']\n",
        "    song_popularity = row['track']['popularity']\n",
        "    song_added = row['added_at']\n",
        "    album_id = row['track']['album']['id']\n",
        "    artist_id = row['track']['album']['artists'][0]['id']\n",
        "    song_element = {'song_id':song_id,'song_name':song_name,'duration_ms':song_duration,'url':song_url,\n",
        "                    'popularity':song_popularity,'song_added':song_added,'album_id':album_id,\n",
        "                    'artist_id':artist_id\n",
        "                   }\n",
        "    song_list.append(song_element)"
      ],
      "metadata": {
        "id": "joQ5YdNxKXFe"
      },
      "execution_count": null,
      "outputs": []
    },
    {
      "cell_type": "code",
      "source": [
        "import pandas as pd\n",
        "album_df = pd.DataFrame.from_dict(album_list)\n",
        "album_df.head()"
      ],
      "metadata": {
        "colab": {
          "base_uri": "https://localhost:8080/",
          "height": 206
        },
        "id": "5xED93pALIEE",
        "outputId": "eae8ed02-8dce-42db-fe8e-d3b939929b59"
      },
      "execution_count": null,
      "outputs": [
        {
          "output_type": "execute_result",
          "data": {
            "text/plain": [
              "                 album_id                                              name  \\\n",
              "0  6i7mF7whyRJuLJ4ogbH2wh                               One Thing At A Time   \n",
              "1  5qmZefgh78fN3jsyPPlvuw                                  a Gift & a Curse   \n",
              "2  1NAmidJlEaVgA3MpcPFYGq                                             Lover   \n",
              "3  5CM66hwjlbZ06LhONWXOAs  Barbie World (with Aqua) [From Barbie The Album]   \n",
              "4  18NOKLkZETa4sWwLMIm0UZ                                            UTOPIA   \n",
              "\n",
              "  release_date  total_tracks  \\\n",
              "0   2023-03-03            36   \n",
              "1   2023-06-16            15   \n",
              "2   2019-08-23            18   \n",
              "3   2023-06-23             1   \n",
              "4   2023-07-28            19   \n",
              "\n",
              "                                                 url  \n",
              "0  https://open.spotify.com/album/6i7mF7whyRJuLJ4...  \n",
              "1  https://open.spotify.com/album/5qmZefgh78fN3js...  \n",
              "2  https://open.spotify.com/album/1NAmidJlEaVgA3M...  \n",
              "3  https://open.spotify.com/album/5CM66hwjlbZ06Lh...  \n",
              "4  https://open.spotify.com/album/18NOKLkZETa4sWw...  "
            ],
            "text/html": [
              "\n",
              "  <div id=\"df-d9e5581b-8acc-4568-bd43-7e216a83ae4b\" class=\"colab-df-container\">\n",
              "    <div>\n",
              "<style scoped>\n",
              "    .dataframe tbody tr th:only-of-type {\n",
              "        vertical-align: middle;\n",
              "    }\n",
              "\n",
              "    .dataframe tbody tr th {\n",
              "        vertical-align: top;\n",
              "    }\n",
              "\n",
              "    .dataframe thead th {\n",
              "        text-align: right;\n",
              "    }\n",
              "</style>\n",
              "<table border=\"1\" class=\"dataframe\">\n",
              "  <thead>\n",
              "    <tr style=\"text-align: right;\">\n",
              "      <th></th>\n",
              "      <th>album_id</th>\n",
              "      <th>name</th>\n",
              "      <th>release_date</th>\n",
              "      <th>total_tracks</th>\n",
              "      <th>url</th>\n",
              "    </tr>\n",
              "  </thead>\n",
              "  <tbody>\n",
              "    <tr>\n",
              "      <th>0</th>\n",
              "      <td>6i7mF7whyRJuLJ4ogbH2wh</td>\n",
              "      <td>One Thing At A Time</td>\n",
              "      <td>2023-03-03</td>\n",
              "      <td>36</td>\n",
              "      <td>https://open.spotify.com/album/6i7mF7whyRJuLJ4...</td>\n",
              "    </tr>\n",
              "    <tr>\n",
              "      <th>1</th>\n",
              "      <td>5qmZefgh78fN3jsyPPlvuw</td>\n",
              "      <td>a Gift &amp; a Curse</td>\n",
              "      <td>2023-06-16</td>\n",
              "      <td>15</td>\n",
              "      <td>https://open.spotify.com/album/5qmZefgh78fN3js...</td>\n",
              "    </tr>\n",
              "    <tr>\n",
              "      <th>2</th>\n",
              "      <td>1NAmidJlEaVgA3MpcPFYGq</td>\n",
              "      <td>Lover</td>\n",
              "      <td>2019-08-23</td>\n",
              "      <td>18</td>\n",
              "      <td>https://open.spotify.com/album/1NAmidJlEaVgA3M...</td>\n",
              "    </tr>\n",
              "    <tr>\n",
              "      <th>3</th>\n",
              "      <td>5CM66hwjlbZ06LhONWXOAs</td>\n",
              "      <td>Barbie World (with Aqua) [From Barbie The Album]</td>\n",
              "      <td>2023-06-23</td>\n",
              "      <td>1</td>\n",
              "      <td>https://open.spotify.com/album/5CM66hwjlbZ06Lh...</td>\n",
              "    </tr>\n",
              "    <tr>\n",
              "      <th>4</th>\n",
              "      <td>18NOKLkZETa4sWwLMIm0UZ</td>\n",
              "      <td>UTOPIA</td>\n",
              "      <td>2023-07-28</td>\n",
              "      <td>19</td>\n",
              "      <td>https://open.spotify.com/album/18NOKLkZETa4sWw...</td>\n",
              "    </tr>\n",
              "  </tbody>\n",
              "</table>\n",
              "</div>\n",
              "    <div class=\"colab-df-buttons\">\n",
              "\n",
              "  <div class=\"colab-df-container\">\n",
              "    <button class=\"colab-df-convert\" onclick=\"convertToInteractive('df-d9e5581b-8acc-4568-bd43-7e216a83ae4b')\"\n",
              "            title=\"Convert this dataframe to an interactive table.\"\n",
              "            style=\"display:none;\">\n",
              "\n",
              "  <svg xmlns=\"http://www.w3.org/2000/svg\" height=\"24px\" viewBox=\"0 -960 960 960\">\n",
              "    <path d=\"M120-120v-720h720v720H120Zm60-500h600v-160H180v160Zm220 220h160v-160H400v160Zm0 220h160v-160H400v160ZM180-400h160v-160H180v160Zm440 0h160v-160H620v160ZM180-180h160v-160H180v160Zm440 0h160v-160H620v160Z\"/>\n",
              "  </svg>\n",
              "    </button>\n",
              "\n",
              "  <style>\n",
              "    .colab-df-container {\n",
              "      display:flex;\n",
              "      gap: 12px;\n",
              "    }\n",
              "\n",
              "    .colab-df-convert {\n",
              "      background-color: #E8F0FE;\n",
              "      border: none;\n",
              "      border-radius: 50%;\n",
              "      cursor: pointer;\n",
              "      display: none;\n",
              "      fill: #1967D2;\n",
              "      height: 32px;\n",
              "      padding: 0 0 0 0;\n",
              "      width: 32px;\n",
              "    }\n",
              "\n",
              "    .colab-df-convert:hover {\n",
              "      background-color: #E2EBFA;\n",
              "      box-shadow: 0px 1px 2px rgba(60, 64, 67, 0.3), 0px 1px 3px 1px rgba(60, 64, 67, 0.15);\n",
              "      fill: #174EA6;\n",
              "    }\n",
              "\n",
              "    .colab-df-buttons div {\n",
              "      margin-bottom: 4px;\n",
              "    }\n",
              "\n",
              "    [theme=dark] .colab-df-convert {\n",
              "      background-color: #3B4455;\n",
              "      fill: #D2E3FC;\n",
              "    }\n",
              "\n",
              "    [theme=dark] .colab-df-convert:hover {\n",
              "      background-color: #434B5C;\n",
              "      box-shadow: 0px 1px 3px 1px rgba(0, 0, 0, 0.15);\n",
              "      filter: drop-shadow(0px 1px 2px rgba(0, 0, 0, 0.3));\n",
              "      fill: #FFFFFF;\n",
              "    }\n",
              "  </style>\n",
              "\n",
              "    <script>\n",
              "      const buttonEl =\n",
              "        document.querySelector('#df-d9e5581b-8acc-4568-bd43-7e216a83ae4b button.colab-df-convert');\n",
              "      buttonEl.style.display =\n",
              "        google.colab.kernel.accessAllowed ? 'block' : 'none';\n",
              "\n",
              "      async function convertToInteractive(key) {\n",
              "        const element = document.querySelector('#df-d9e5581b-8acc-4568-bd43-7e216a83ae4b');\n",
              "        const dataTable =\n",
              "          await google.colab.kernel.invokeFunction('convertToInteractive',\n",
              "                                                    [key], {});\n",
              "        if (!dataTable) return;\n",
              "\n",
              "        const docLinkHtml = 'Like what you see? Visit the ' +\n",
              "          '<a target=\"_blank\" href=https://colab.research.google.com/notebooks/data_table.ipynb>data table notebook</a>'\n",
              "          + ' to learn more about interactive tables.';\n",
              "        element.innerHTML = '';\n",
              "        dataTable['output_type'] = 'display_data';\n",
              "        await google.colab.output.renderOutput(dataTable, element);\n",
              "        const docLink = document.createElement('div');\n",
              "        docLink.innerHTML = docLinkHtml;\n",
              "        element.appendChild(docLink);\n",
              "      }\n",
              "    </script>\n",
              "  </div>\n",
              "\n",
              "\n",
              "<div id=\"df-35ee2e94-5a29-4ca7-9c32-4b190b055c0f\">\n",
              "  <button class=\"colab-df-quickchart\" onclick=\"quickchart('df-35ee2e94-5a29-4ca7-9c32-4b190b055c0f')\"\n",
              "            title=\"Suggest charts.\"\n",
              "            style=\"display:none;\">\n",
              "\n",
              "<svg xmlns=\"http://www.w3.org/2000/svg\" height=\"24px\"viewBox=\"0 0 24 24\"\n",
              "     width=\"24px\">\n",
              "    <g>\n",
              "        <path d=\"M19 3H5c-1.1 0-2 .9-2 2v14c0 1.1.9 2 2 2h14c1.1 0 2-.9 2-2V5c0-1.1-.9-2-2-2zM9 17H7v-7h2v7zm4 0h-2V7h2v10zm4 0h-2v-4h2v4z\"/>\n",
              "    </g>\n",
              "</svg>\n",
              "  </button>\n",
              "\n",
              "<style>\n",
              "  .colab-df-quickchart {\n",
              "    background-color: #E8F0FE;\n",
              "    border: none;\n",
              "    border-radius: 50%;\n",
              "    cursor: pointer;\n",
              "    display: none;\n",
              "    fill: #1967D2;\n",
              "    height: 32px;\n",
              "    padding: 0 0 0 0;\n",
              "    width: 32px;\n",
              "  }\n",
              "\n",
              "  .colab-df-quickchart:hover {\n",
              "    background-color: #E2EBFA;\n",
              "    box-shadow: 0px 1px 2px rgba(60, 64, 67, 0.3), 0px 1px 3px 1px rgba(60, 64, 67, 0.15);\n",
              "    fill: #174EA6;\n",
              "  }\n",
              "\n",
              "  [theme=dark] .colab-df-quickchart {\n",
              "    background-color: #3B4455;\n",
              "    fill: #D2E3FC;\n",
              "  }\n",
              "\n",
              "  [theme=dark] .colab-df-quickchart:hover {\n",
              "    background-color: #434B5C;\n",
              "    box-shadow: 0px 1px 3px 1px rgba(0, 0, 0, 0.15);\n",
              "    filter: drop-shadow(0px 1px 2px rgba(0, 0, 0, 0.3));\n",
              "    fill: #FFFFFF;\n",
              "  }\n",
              "</style>\n",
              "\n",
              "  <script>\n",
              "    async function quickchart(key) {\n",
              "      const charts = await google.colab.kernel.invokeFunction(\n",
              "          'suggestCharts', [key], {});\n",
              "    }\n",
              "    (() => {\n",
              "      let quickchartButtonEl =\n",
              "        document.querySelector('#df-35ee2e94-5a29-4ca7-9c32-4b190b055c0f button');\n",
              "      quickchartButtonEl.style.display =\n",
              "        google.colab.kernel.accessAllowed ? 'block' : 'none';\n",
              "    })();\n",
              "  </script>\n",
              "</div>\n",
              "    </div>\n",
              "  </div>\n"
            ]
          },
          "metadata": {},
          "execution_count": 38
        }
      ]
    },
    {
      "cell_type": "code",
      "source": [
        "album_df.info()"
      ],
      "metadata": {
        "id": "03Bec7RTdTxf",
        "outputId": "45931bcb-cc9f-4bdb-a592-e482cdc7de8c",
        "colab": {
          "base_uri": "https://localhost:8080/"
        }
      },
      "execution_count": null,
      "outputs": [
        {
          "output_type": "stream",
          "name": "stdout",
          "text": [
            "<class 'pandas.core.frame.DataFrame'>\n",
            "Int64Index: 41 entries, 0 to 47\n",
            "Data columns (total 5 columns):\n",
            " #   Column        Non-Null Count  Dtype \n",
            "---  ------        --------------  ----- \n",
            " 0   album_id      41 non-null     object\n",
            " 1   name          41 non-null     object\n",
            " 2   release_date  41 non-null     object\n",
            " 3   total_tracks  41 non-null     int64 \n",
            " 4   url           41 non-null     object\n",
            "dtypes: int64(1), object(4)\n",
            "memory usage: 1.9+ KB\n"
          ]
        }
      ]
    },
    {
      "cell_type": "code",
      "source": [
        "# Check for duplicate album IDs\n",
        "duplicate_albums = album_df[album_df.duplicated(subset=['album_id'], keep=False)]\n",
        "if not duplicate_albums.empty:\n",
        "    print(\"Duplicate album IDs found:\")\n",
        "    print(duplicate_albums)\n",
        "else:\n",
        "    print(\"No duplicate album IDs found.\")"
      ],
      "metadata": {
        "colab": {
          "base_uri": "https://localhost:8080/"
        },
        "id": "V0FZS9gdcIiP",
        "outputId": "aecdaac1-809d-4c66-c246-bbcfa037c17b"
      },
      "execution_count": null,
      "outputs": [
        {
          "output_type": "stream",
          "name": "stdout",
          "text": [
            "Duplicate album IDs found:\n",
            "                  album_id                     name release_date  \\\n",
            "0   6i7mF7whyRJuLJ4ogbH2wh      One Thing At A Time   2023-03-03   \n",
            "4   18NOKLkZETa4sWwLMIm0UZ                   UTOPIA   2023-07-28   \n",
            "13  18NOKLkZETa4sWwLMIm0UZ                   UTOPIA   2023-07-28   \n",
            "15  18NOKLkZETa4sWwLMIm0UZ                   UTOPIA   2023-07-28   \n",
            "18  18NOKLkZETa4sWwLMIm0UZ                   UTOPIA   2023-07-28   \n",
            "19  6i7mF7whyRJuLJ4ogbH2wh      One Thing At A Time   2023-03-03   \n",
            "20  151w1FgRZfnKZA9FEcg9Z3                Midnights   2022-10-21   \n",
            "23  2fenSS68JI1h4Fo296JfGr                 folklore   2020-07-24   \n",
            "24  2QJmrSgbdM35R67eoGQo4j                     1989   2014-10-27   \n",
            "34  2QJmrSgbdM35R67eoGQo4j                     1989   2014-10-27   \n",
            "36  151w1FgRZfnKZA9FEcg9Z3                Midnights   2022-10-21   \n",
            "41  19DGbjQW4oJmS1TLmr7OH3  Religiously. The Album.   2023-05-12   \n",
            "42  6i7mF7whyRJuLJ4ogbH2wh      One Thing At A Time   2023-03-03   \n",
            "48  19DGbjQW4oJmS1TLmr7OH3  Religiously. The Album.   2023-05-12   \n",
            "49  2fenSS68JI1h4Fo296JfGr                 folklore   2020-07-24   \n",
            "\n",
            "    total_tracks                                                url  \n",
            "0             36  https://open.spotify.com/album/6i7mF7whyRJuLJ4...  \n",
            "4             19  https://open.spotify.com/album/18NOKLkZETa4sWw...  \n",
            "13            19  https://open.spotify.com/album/18NOKLkZETa4sWw...  \n",
            "15            19  https://open.spotify.com/album/18NOKLkZETa4sWw...  \n",
            "18            19  https://open.spotify.com/album/18NOKLkZETa4sWw...  \n",
            "19            36  https://open.spotify.com/album/6i7mF7whyRJuLJ4...  \n",
            "20            13  https://open.spotify.com/album/151w1FgRZfnKZA9...  \n",
            "23            16  https://open.spotify.com/album/2fenSS68JI1h4Fo...  \n",
            "24            13  https://open.spotify.com/album/2QJmrSgbdM35R67...  \n",
            "34            13  https://open.spotify.com/album/2QJmrSgbdM35R67...  \n",
            "36            13  https://open.spotify.com/album/151w1FgRZfnKZA9...  \n",
            "41            16  https://open.spotify.com/album/19DGbjQW4oJmS1T...  \n",
            "42            36  https://open.spotify.com/album/6i7mF7whyRJuLJ4...  \n",
            "48            16  https://open.spotify.com/album/19DGbjQW4oJmS1T...  \n",
            "49            16  https://open.spotify.com/album/2fenSS68JI1h4Fo...  \n"
          ]
        }
      ]
    },
    {
      "cell_type": "code",
      "source": [
        "album_df = album_df.drop_duplicates(subset=['album_id'])"
      ],
      "metadata": {
        "id": "eGORNGwIcVbe"
      },
      "execution_count": null,
      "outputs": []
    },
    {
      "cell_type": "code",
      "source": [
        "artist_df = pd.DataFrame.from_dict(artist_list)"
      ],
      "metadata": {
        "id": "ENF1DDLPcbMD"
      },
      "execution_count": null,
      "outputs": []
    },
    {
      "cell_type": "code",
      "source": [
        "artist_df = artist_df.drop_duplicates(subset=['artist_id'])"
      ],
      "metadata": {
        "id": "7klWIjHtceN6"
      },
      "execution_count": null,
      "outputs": []
    },
    {
      "cell_type": "code",
      "source": [
        "\n",
        "song_df = pd.DataFrame.from_dict(song_list)"
      ],
      "metadata": {
        "id": "AH90k9CYckVY"
      },
      "execution_count": null,
      "outputs": []
    },
    {
      "cell_type": "code",
      "source": [
        "# Check for duplicate song IDs\n",
        "duplicate_songs = song_df[song_df.duplicated(subset=['song_id'], keep=False)]\n",
        "if not duplicate_songs.empty:\n",
        "    print(\"Duplicate song IDs found:\")\n",
        "    print(duplicate_songs)\n",
        "else:\n",
        "    print(\"No duplicate song IDs found.\")"
      ],
      "metadata": {
        "colab": {
          "base_uri": "https://localhost:8080/"
        },
        "id": "6pXhuKN7cy1b",
        "outputId": "f00dc7e5-a82b-4b46-942f-8e412283ccea"
      },
      "execution_count": null,
      "outputs": [
        {
          "output_type": "stream",
          "name": "stdout",
          "text": [
            "No duplicate song IDs found.\n"
          ]
        }
      ]
    }
  ]
}