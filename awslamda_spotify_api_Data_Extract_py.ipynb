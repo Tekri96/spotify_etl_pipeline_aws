{
  "nbformat": 4,
  "nbformat_minor": 0,
  "metadata": {
    "colab": {
      "provenance": [],
      "authorship_tag": "ABX9TyMFxkzz1OPQ78zWzzcCGMI0",
      "include_colab_link": true
    },
    "kernelspec": {
      "name": "python3",
      "display_name": "Python 3"
    },
    "language_info": {
      "name": "python"
    }
  },
  "cells": [
    {
      "cell_type": "markdown",
      "metadata": {
        "id": "view-in-github",
        "colab_type": "text"
      },
      "source": [
        "<a href=\"https://colab.research.google.com/github/Tekri96/spotify_etl_pipeline_aws/blob/main/awslamda_spotify_api_Data_Extract_py.ipynb\" target=\"_parent\"><img src=\"https://colab.research.google.com/assets/colab-badge.svg\" alt=\"Open In Colab\"/></a>"
      ]
    },
    {
      "cell_type": "code",
      "execution_count": null,
      "metadata": {
        "id": "9jA7wheMOu5J"
      },
      "outputs": [],
      "source": [
        "import json\n",
        "import os\n",
        "import spotipy\n",
        "from spotipy.oauth2 import SpotifyClientCredentials\n",
        "import boto3\n",
        "from datetime import datetime\n",
        "def lambda_handler(event, context):\n",
        "\n",
        "    cilent_id = os.environ.get('client_id')\n",
        "    client_secret = os.environ.get('client_secret')\n",
        "\n",
        "    client_credentials_manager = SpotifyClientCredentials(client_id=cilent_id, client_secret=client_secret)\n",
        "    sp = spotipy.Spotify(client_credentials_manager = client_credentials_manager)\n",
        "\n",
        "\n",
        "    playlist_link = \"https://open.spotify.com/playlist/37i9dQZEVXbMda2apknTqH\"\n",
        "    playlist_URI = playlist_link.split(\"/\")[-1]\n",
        "\n",
        "    data = sp.playlist_tracks(playlist_URI)\n",
        "\n",
        "\n",
        "\n",
        "    cilent = boto3.client('s3')\n",
        "\n",
        "    filename = \"spotify_raw_\" + str(datetime.now()) + \".json\"\n",
        "\n",
        "    cilent.put_object(\n",
        "        Bucket=\"spotify-etl-saurabh\",\n",
        "        Key=\"raw_data/to_processed/\" + filename,\n",
        "        Body=json.dumps(data)\n",
        "        )\n"
      ]
    }
  ]
}